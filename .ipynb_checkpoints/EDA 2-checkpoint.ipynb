{
 "cells": [
  {
   "cell_type": "markdown",
   "id": "6ac122b5",
   "metadata": {},
   "source": [
    "# Exploratory Data Analysis Data Axis (x,y,z)"
   ]
  },
  {
   "cell_type": "markdown",
   "id": "11632915",
   "metadata": {},
   "source": [
    "referensi:<br>\n",
    "https://www.kaggle.com/code/estevanamazonas/agressive-behaviour-eda-modeling-finetuning <br>\n",
    "https://www.kaggle.com/code/pratul007/deep-learning-with-high-graphics  <br>\n",
    "\n"
   ]
  },
  {
   "cell_type": "markdown",
   "id": "5e2917e0",
   "metadata": {},
   "source": [
    "## Import Packages"
   ]
  },
  {
   "cell_type": "code",
   "execution_count": 1,
   "id": "0c401697",
   "metadata": {},
   "outputs": [],
   "source": [
    "import pandas as pd\n",
    "import numpy as np # linear algebra\n",
    "import matplotlib.pylab as plt\n",
    "\n",
    "import seaborn as sns\n",
    "from mpl_toolkits.mplot3d import Axes3D\n",
    "import matplotlib.pyplot as plt"
   ]
  },
  {
   "cell_type": "code",
   "execution_count": 2,
   "id": "0c10f0a8",
   "metadata": {},
   "outputs": [],
   "source": [
    "# Read CSV\n",
    "df = pd.read_csv('dataset/merge_data.csv')"
   ]
  },
  {
   "cell_type": "code",
   "execution_count": 4,
   "id": "30d9e2b6",
   "metadata": {},
   "outputs": [
    {
     "data": {
      "text/html": [
       "<div>\n",
       "<style scoped>\n",
       "    .dataframe tbody tr th:only-of-type {\n",
       "        vertical-align: middle;\n",
       "    }\n",
       "\n",
       "    .dataframe tbody tr th {\n",
       "        vertical-align: top;\n",
       "    }\n",
       "\n",
       "    .dataframe thead th {\n",
       "        text-align: right;\n",
       "    }\n",
       "</style>\n",
       "<table border=\"1\" class=\"dataframe\">\n",
       "  <thead>\n",
       "    <tr style=\"text-align: right;\">\n",
       "      <th></th>\n",
       "      <th>timestamp</th>\n",
       "      <th>x</th>\n",
       "      <th>y</th>\n",
       "      <th>z</th>\n",
       "      <th>label</th>\n",
       "    </tr>\n",
       "  </thead>\n",
       "  <tbody>\n",
       "    <tr>\n",
       "      <th>count</th>\n",
       "      <td>28392</td>\n",
       "      <td>28392.000000</td>\n",
       "      <td>28392.000000</td>\n",
       "      <td>28392.000000</td>\n",
       "      <td>28392.000000</td>\n",
       "    </tr>\n",
       "    <tr>\n",
       "      <th>unique</th>\n",
       "      <td>28392</td>\n",
       "      <td>NaN</td>\n",
       "      <td>NaN</td>\n",
       "      <td>NaN</td>\n",
       "      <td>NaN</td>\n",
       "    </tr>\n",
       "    <tr>\n",
       "      <th>top</th>\n",
       "      <td>2022-07-06 07:41:54.320</td>\n",
       "      <td>NaN</td>\n",
       "      <td>NaN</td>\n",
       "      <td>NaN</td>\n",
       "      <td>NaN</td>\n",
       "    </tr>\n",
       "    <tr>\n",
       "      <th>freq</th>\n",
       "      <td>1</td>\n",
       "      <td>NaN</td>\n",
       "      <td>NaN</td>\n",
       "      <td>NaN</td>\n",
       "      <td>NaN</td>\n",
       "    </tr>\n",
       "    <tr>\n",
       "      <th>mean</th>\n",
       "      <td>NaN</td>\n",
       "      <td>-0.766484</td>\n",
       "      <td>245.575514</td>\n",
       "      <td>41.893738</td>\n",
       "      <td>0.500000</td>\n",
       "    </tr>\n",
       "    <tr>\n",
       "      <th>std</th>\n",
       "      <td>NaN</td>\n",
       "      <td>6.895088</td>\n",
       "      <td>8.203194</td>\n",
       "      <td>7.872899</td>\n",
       "      <td>0.500009</td>\n",
       "    </tr>\n",
       "    <tr>\n",
       "      <th>min</th>\n",
       "      <td>NaN</td>\n",
       "      <td>-97.000000</td>\n",
       "      <td>169.000000</td>\n",
       "      <td>-48.000000</td>\n",
       "      <td>0.000000</td>\n",
       "    </tr>\n",
       "    <tr>\n",
       "      <th>25%</th>\n",
       "      <td>NaN</td>\n",
       "      <td>-2.000000</td>\n",
       "      <td>243.000000</td>\n",
       "      <td>38.000000</td>\n",
       "      <td>0.000000</td>\n",
       "    </tr>\n",
       "    <tr>\n",
       "      <th>50%</th>\n",
       "      <td>NaN</td>\n",
       "      <td>0.000000</td>\n",
       "      <td>246.000000</td>\n",
       "      <td>42.000000</td>\n",
       "      <td>0.500000</td>\n",
       "    </tr>\n",
       "    <tr>\n",
       "      <th>75%</th>\n",
       "      <td>NaN</td>\n",
       "      <td>1.000000</td>\n",
       "      <td>249.000000</td>\n",
       "      <td>45.000000</td>\n",
       "      <td>1.000000</td>\n",
       "    </tr>\n",
       "    <tr>\n",
       "      <th>max</th>\n",
       "      <td>NaN</td>\n",
       "      <td>190.000000</td>\n",
       "      <td>394.000000</td>\n",
       "      <td>352.000000</td>\n",
       "      <td>1.000000</td>\n",
       "    </tr>\n",
       "  </tbody>\n",
       "</table>\n",
       "</div>"
      ],
      "text/plain": [
       "                      timestamp             x             y             z  \\\n",
       "count                     28392  28392.000000  28392.000000  28392.000000   \n",
       "unique                    28392           NaN           NaN           NaN   \n",
       "top     2022-07-06 07:41:54.320           NaN           NaN           NaN   \n",
       "freq                          1           NaN           NaN           NaN   \n",
       "mean                        NaN     -0.766484    245.575514     41.893738   \n",
       "std                         NaN      6.895088      8.203194      7.872899   \n",
       "min                         NaN    -97.000000    169.000000    -48.000000   \n",
       "25%                         NaN     -2.000000    243.000000     38.000000   \n",
       "50%                         NaN      0.000000    246.000000     42.000000   \n",
       "75%                         NaN      1.000000    249.000000     45.000000   \n",
       "max                         NaN    190.000000    394.000000    352.000000   \n",
       "\n",
       "               label  \n",
       "count   28392.000000  \n",
       "unique           NaN  \n",
       "top              NaN  \n",
       "freq             NaN  \n",
       "mean        0.500000  \n",
       "std         0.500009  \n",
       "min         0.000000  \n",
       "25%         0.000000  \n",
       "50%         0.500000  \n",
       "75%         1.000000  \n",
       "max         1.000000  "
      ]
     },
     "execution_count": 4,
     "metadata": {},
     "output_type": "execute_result"
    }
   ],
   "source": [
    "df.describe(include=\"all\")"
   ]
  },
  {
   "cell_type": "markdown",
   "id": "7754d6f3",
   "metadata": {},
   "source": [
    "## Analisis Statistical\n",
    "<li> rentang nilai dari sumbu x, -97 sampai 394\n",
    "<li> rentang nilai dari sumbu y, 169 sampai 394\n",
    "<li> rentang nilai dari sumbu y, -48 sampai 352\n",
    "<br><br>\n",
    "seharusnya mencari rata-rata, median, std tidak diperbolehkan terdapat nilai yang negatif. Nilai negatif ini adalah posisi letak sumbu x,y,z yang memungkinkan nilai menjadi negatif. Maka, akan dilakukan perhitungan ulang dengan menambahkan absolute "
   ]
  },
  {
   "cell_type": "markdown",
   "id": "ed71ebfe",
   "metadata": {},
   "source": [
    "# Visualize the Data"
   ]
  },
  {
   "cell_type": "code",
   "execution_count": null,
   "id": "5274fadf",
   "metadata": {},
   "outputs": [],
   "source": []
  },
  {
   "cell_type": "code",
   "execution_count": null,
   "id": "1feb0a19",
   "metadata": {},
   "outputs": [],
   "source": []
  },
  {
   "cell_type": "code",
   "execution_count": null,
   "id": "31bf3309",
   "metadata": {},
   "outputs": [],
   "source": []
  },
  {
   "cell_type": "code",
   "execution_count": null,
   "id": "e9791bfd",
   "metadata": {},
   "outputs": [],
   "source": []
  }
 ],
 "metadata": {
  "kernelspec": {
   "display_name": "Python 3 (ipykernel)",
   "language": "python",
   "name": "python3"
  },
  "language_info": {
   "codemirror_mode": {
    "name": "ipython",
    "version": 3
   },
   "file_extension": ".py",
   "mimetype": "text/x-python",
   "name": "python",
   "nbconvert_exporter": "python",
   "pygments_lexer": "ipython3",
   "version": "3.10.9"
  }
 },
 "nbformat": 4,
 "nbformat_minor": 5
}
