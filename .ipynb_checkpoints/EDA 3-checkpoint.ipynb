{
 "cells": [
  {
   "cell_type": "markdown",
   "id": "037aefcc",
   "metadata": {},
   "source": [
    "# Exploratory Data Analysis Data Axis (x,y,z)"
   ]
  },
  {
   "cell_type": "markdown",
   "id": "ac9cace8",
   "metadata": {},
   "source": [
    "referensi:<br>\n",
    "https://www.kaggle.com/code/estevanamazonas/agressive-behaviour-eda-modeling-finetuning <br>\n",
    "https://www.kaggle.com/code/pratul007/deep-learning-with-high-graphics  <br>\n",
    "https://www.kaggle.com/code/pratul007/deep-learning-with-high-graphics\n"
   ]
  },
  {
   "cell_type": "markdown",
   "id": "f8c74907",
   "metadata": {},
   "source": [
    "## Import Packages"
   ]
  },
  {
   "cell_type": "code",
   "execution_count": 13,
   "id": "0b6f8be5",
   "metadata": {},
   "outputs": [],
   "source": [
    "import pandas as pd\n",
    "import numpy as np \n",
    "import matplotlib.pylab as plt\n",
    "import plotly.express as px\n",
    "\n",
    "import seaborn as sns\n",
    "from mpl_toolkits.mplot3d import Axes3D\n",
    "import matplotlib.pyplot as plt\n",
    "from sklearn.utils import shuffle\n",
    "from sklearn.preprocessing import LabelEncoder, StandardScaler\n",
    "from sklearn.model_selection import train_test_split"
   ]
  },
  {
   "cell_type": "code",
   "execution_count": 6,
   "id": "71f5b80e",
   "metadata": {},
   "outputs": [],
   "source": [
    "# Read CSV\n",
    "df = pd.read_csv('dataset/merge_data.csv')"
   ]
  },
  {
   "cell_type": "code",
   "execution_count": 7,
   "id": "8f640d5c",
   "metadata": {},
   "outputs": [],
   "source": [
    "train_data, test_data = train_test_split(df, test_size=0.2, random_state=42)"
   ]
  },
  {
   "cell_type": "code",
   "execution_count": 8,
   "id": "a9832e88",
   "metadata": {},
   "outputs": [
    {
     "data": {
      "text/html": [
       "<div>\n",
       "<style scoped>\n",
       "    .dataframe tbody tr th:only-of-type {\n",
       "        vertical-align: middle;\n",
       "    }\n",
       "\n",
       "    .dataframe tbody tr th {\n",
       "        vertical-align: top;\n",
       "    }\n",
       "\n",
       "    .dataframe thead th {\n",
       "        text-align: right;\n",
       "    }\n",
       "</style>\n",
       "<table border=\"1\" class=\"dataframe\">\n",
       "  <thead>\n",
       "    <tr style=\"text-align: right;\">\n",
       "      <th></th>\n",
       "      <th>timestamp</th>\n",
       "      <th>x</th>\n",
       "      <th>y</th>\n",
       "      <th>z</th>\n",
       "      <th>label</th>\n",
       "    </tr>\n",
       "  </thead>\n",
       "  <tbody>\n",
       "    <tr>\n",
       "      <th>11034</th>\n",
       "      <td>2022-07-06 07:54:15.200</td>\n",
       "      <td>-1.0</td>\n",
       "      <td>242.0</td>\n",
       "      <td>43.0</td>\n",
       "      <td>1.0</td>\n",
       "    </tr>\n",
       "    <tr>\n",
       "      <th>12555</th>\n",
       "      <td>2022-07-06 07:55:16.040</td>\n",
       "      <td>0.0</td>\n",
       "      <td>247.0</td>\n",
       "      <td>42.0</td>\n",
       "      <td>0.0</td>\n",
       "    </tr>\n",
       "    <tr>\n",
       "      <th>21861</th>\n",
       "      <td>2022-07-06 07:49:11.960</td>\n",
       "      <td>1.0</td>\n",
       "      <td>246.0</td>\n",
       "      <td>40.0</td>\n",
       "      <td>0.0</td>\n",
       "    </tr>\n",
       "    <tr>\n",
       "      <th>12157</th>\n",
       "      <td>2022-07-06 07:55:00.120</td>\n",
       "      <td>0.0</td>\n",
       "      <td>247.0</td>\n",
       "      <td>42.0</td>\n",
       "      <td>0.0</td>\n",
       "    </tr>\n",
       "    <tr>\n",
       "      <th>3737</th>\n",
       "      <td>2022-07-06 07:44:23.800</td>\n",
       "      <td>1.0</td>\n",
       "      <td>245.0</td>\n",
       "      <td>39.0</td>\n",
       "      <td>0.0</td>\n",
       "    </tr>\n",
       "    <tr>\n",
       "      <th>...</th>\n",
       "      <td>...</td>\n",
       "      <td>...</td>\n",
       "      <td>...</td>\n",
       "      <td>...</td>\n",
       "      <td>...</td>\n",
       "    </tr>\n",
       "    <tr>\n",
       "      <th>21575</th>\n",
       "      <td>2022-07-06 07:49:00.520</td>\n",
       "      <td>1.0</td>\n",
       "      <td>246.0</td>\n",
       "      <td>42.0</td>\n",
       "      <td>0.0</td>\n",
       "    </tr>\n",
       "    <tr>\n",
       "      <th>5390</th>\n",
       "      <td>2022-07-06 07:56:02.240</td>\n",
       "      <td>0.0</td>\n",
       "      <td>248.0</td>\n",
       "      <td>50.0</td>\n",
       "      <td>1.0</td>\n",
       "    </tr>\n",
       "    <tr>\n",
       "      <th>860</th>\n",
       "      <td>2022-07-06 07:42:28.720</td>\n",
       "      <td>1.0</td>\n",
       "      <td>250.0</td>\n",
       "      <td>34.0</td>\n",
       "      <td>1.0</td>\n",
       "    </tr>\n",
       "    <tr>\n",
       "      <th>15795</th>\n",
       "      <td>2022-07-06 07:51:15.400</td>\n",
       "      <td>0.0</td>\n",
       "      <td>245.0</td>\n",
       "      <td>43.0</td>\n",
       "      <td>1.0</td>\n",
       "    </tr>\n",
       "    <tr>\n",
       "      <th>23654</th>\n",
       "      <td>2022-07-06 07:46:01.600</td>\n",
       "      <td>11.0</td>\n",
       "      <td>262.0</td>\n",
       "      <td>49.0</td>\n",
       "      <td>1.0</td>\n",
       "    </tr>\n",
       "  </tbody>\n",
       "</table>\n",
       "<p>22713 rows × 5 columns</p>\n",
       "</div>"
      ],
      "text/plain": [
       "                     timestamp     x      y     z  label\n",
       "11034  2022-07-06 07:54:15.200  -1.0  242.0  43.0    1.0\n",
       "12555  2022-07-06 07:55:16.040   0.0  247.0  42.0    0.0\n",
       "21861  2022-07-06 07:49:11.960   1.0  246.0  40.0    0.0\n",
       "12157  2022-07-06 07:55:00.120   0.0  247.0  42.0    0.0\n",
       "3737   2022-07-06 07:44:23.800   1.0  245.0  39.0    0.0\n",
       "...                        ...   ...    ...   ...    ...\n",
       "21575  2022-07-06 07:49:00.520   1.0  246.0  42.0    0.0\n",
       "5390   2022-07-06 07:56:02.240   0.0  248.0  50.0    1.0\n",
       "860    2022-07-06 07:42:28.720   1.0  250.0  34.0    1.0\n",
       "15795  2022-07-06 07:51:15.400   0.0  245.0  43.0    1.0\n",
       "23654  2022-07-06 07:46:01.600  11.0  262.0  49.0    1.0\n",
       "\n",
       "[22713 rows x 5 columns]"
      ]
     },
     "execution_count": 8,
     "metadata": {},
     "output_type": "execute_result"
    }
   ],
   "source": [
    "train_data"
   ]
  },
  {
   "cell_type": "code",
   "execution_count": 9,
   "id": "a1eeb037",
   "metadata": {},
   "outputs": [
    {
     "data": {
      "text/plain": [
       "((22713, 5), (5679, 5))"
      ]
     },
     "execution_count": 9,
     "metadata": {},
     "output_type": "execute_result"
    }
   ],
   "source": [
    "train_data.shape, test_data.shape"
   ]
  },
  {
   "cell_type": "markdown",
   "id": "b43e9f95",
   "metadata": {},
   "source": [
    "## Analisis Statistical\n",
    "<li> rentang nilai dari sumbu x, -97 sampai 394\n",
    "<li> rentang nilai dari sumbu y, 169 sampai 394\n",
    "<li> rentang nilai dari sumbu y, -48 sampai 352\n",
    "<br><br>\n",
    "seharusnya mencari rata-rata, median, std tidak diperbolehkan terdapat nilai yang negatif. \n",
    "Nilai negatif ini adalah posisi letak sumbu x,y,z yang memungkinkan nilai menjadi negatif. Maka, akan dilakukan perhitungan ulang dengan menambahkan absolute "
   ]
  },
  {
   "cell_type": "code",
   "execution_count": 11,
   "id": "4fd72956",
   "metadata": {},
   "outputs": [],
   "source": [
    "# Calculate the mean, median, and standard deviation for each axis\n",
    "mean_x = np.mean(abs(train_data['x']))\n",
    "mean_y = np.mean(abs(train_data['y']))\n",
    "mean_z = np.mean(abs(train_data['z']))\n",
    "\n",
    "median_x = np.median(abs(train_data['x']))\n",
    "median_y = np.median(abs(train_data['y']))\n",
    "median_z = np.median(abs(train_data['z']))\n",
    "\n",
    "std_x = np.std(abs(train_data['x']))\n",
    "std_y = np.std(abs(train_data['y']))\n",
    "std_z = np.std(abs(train_data['z']))"
   ]
  },
  {
   "cell_type": "code",
   "execution_count": 12,
   "id": "afc885d4",
   "metadata": {},
   "outputs": [
    {
     "name": "stdout",
     "output_type": "stream",
     "text": [
      "Axis X: Mean = 3.87, Median = 2.00, Standard Deviation = 5.84\n",
      "Axis Y: Mean = 245.60, Median = 246.00, Standard Deviation = 8.22\n",
      "Axis Z: Mean = 41.91, Median = 42.00, Standard Deviation = 7.89\n"
     ]
    }
   ],
   "source": [
    "# Print the results\n",
    "print('Axis X: Mean = {:.2f}, Median = {:.2f}, Standard Deviation = {:.2f}'.format(mean_x, median_x, std_x))\n",
    "print('Axis Y: Mean = {:.2f}, Median = {:.2f}, Standard Deviation = {:.2f}'.format(mean_y, median_y, std_y))\n",
    "print('Axis Z: Mean = {:.2f}, Median = {:.2f}, Standard Deviation = {:.2f}'.format(mean_z, median_z, std_z))\n"
   ]
  },
  {
   "cell_type": "markdown",
   "id": "de0f32a7",
   "metadata": {},
   "source": [
    "# Visualize the Data\n",
    "## Visualize with Histogram and Boxplot"
   ]
  },
  {
   "cell_type": "code",
   "execution_count": null,
   "id": "8ccb5a17",
   "metadata": {},
   "outputs": [],
   "source": [
    "import plotly.express as px\n",
    "\n",
    "# bar plot\n",
    "fig = px.histogram(df, x='label', nbins=3, color='label')\n",
    "fig.show()"
   ]
  },
  {
   "cell_type": "code",
   "execution_count": null,
   "id": "faf59726",
   "metadata": {},
   "outputs": [],
   "source": [
    "# box plots\n",
    "fig = px.box(df, x='label', y='x', color='label')\n",
    "fig.show()"
   ]
  },
  {
   "cell_type": "code",
   "execution_count": null,
   "id": "7f0cdf4d",
   "metadata": {},
   "outputs": [],
   "source": [
    "fig = px.box(df, x='label', y='y', color='label')\n",
    "fig.show()"
   ]
  },
  {
   "cell_type": "code",
   "execution_count": null,
   "id": "3e3d56cd",
   "metadata": {},
   "outputs": [],
   "source": [
    "fig = px.box(df, x='label', y='z', color='label')\n",
    "fig.show()"
   ]
  },
  {
   "cell_type": "markdown",
   "id": "4a742025",
   "metadata": {},
   "source": [
    "## Visualize Pairplot and Correlation Heatmap"
   ]
  },
  {
   "cell_type": "code",
   "execution_count": null,
   "id": "e55eb1df",
   "metadata": {},
   "outputs": [],
   "source": [
    "fig = px.scatter_matrix(df, dimensions=['x', 'y', 'z'], color='label')\n",
    "fig.update_layout(title='Pairplot of Features')\n",
    "fig.show()"
   ]
  },
  {
   "cell_type": "markdown",
   "id": "6e0c255e",
   "metadata": {},
   "source": [
    "### How to read Pairplot\n",
    "<li>Korelasi positif: Ketika scatterplot menunjukkan tren naik, itu berarti bahwa ketika satu variabel meningkat, demikian juga variabel lainnya.\n",
    "<li>Korelasi negatif: Ketika scatterplot menunjukkan tren menurun, itu berarti bahwa ketika satu variabel meningkat, variabel lainnya menurun.\n",
    "<li>Tidak ada korelasi: Ketika scatterplot tidak menunjukkan tren yang jelas, berarti kedua variabel tersebut tidak terkait.\n",
    "<br><b>Maka dalam visualisasi pairplot diatas, bisa dikatakan bahwa setiap variable Axis x,y,z tidak mempunya korelasi antar variabel</b>"
   ]
  },
  {
   "cell_type": "code",
   "execution_count": null,
   "id": "525f629c",
   "metadata": {},
   "outputs": [],
   "source": [
    "corr_matrix = df[['timestamp','x', 'y', 'z', 'label']].corr()\n",
    "\n",
    "# Print correlation matrix\n",
    "sns.heatmap(corr_matrix, annot=True, cmap='coolwarm')\n",
    "plt.title('Correlation Matrix')\n",
    "plt.show()"
   ]
  },
  {
   "cell_type": "markdown",
   "id": "70e364b1",
   "metadata": {},
   "source": [
    "Correlation Heatmap menunjukkan korelasi antara semua pasangan variabel dalam dataset. Warna yang lebih terang menunjukkan korelasi positif, sedangkan warna yang lebih gelap menunjukkan korelasi negatif. Kita dapat membaca nilai korelasi dari matriks warna di heatmap. Semakin dekat nilai korelasi dengan 1, semakin kuat hubungan antara dua variabel.\n",
    "<b>How to read Correlation Matrix:</b>\n",
    "<li>Korelasi positif: Ketika warna lebih dekat ke merah, itu berarti bahwa satu variabel meningkat, demikian juga variabel lainnya. Semakin gelap warna merah, semakin kuat korelasinya.\n",
    "<li>Korelasi negatif: Ketika warnanya lebih dekat ke biru, itu berarti bahwa ketika satu variabel meningkat, variabel lainnya menurun. Semakin gelap warna biru, semakin kuat korelasinya.\n",
    "<li>Tidak ada korelasi: Bila warnanya mendekati putih, berarti kedua variabel tidak berhubungan."
   ]
  },
  {
   "cell_type": "code",
   "execution_count": null,
   "id": "a26d4879",
   "metadata": {},
   "outputs": [],
   "source": []
  }
 ],
 "metadata": {
  "kernelspec": {
   "display_name": "Python 3 (ipykernel)",
   "language": "python",
   "name": "python3"
  },
  "language_info": {
   "codemirror_mode": {
    "name": "ipython",
    "version": 3
   },
   "file_extension": ".py",
   "mimetype": "text/x-python",
   "name": "python",
   "nbconvert_exporter": "python",
   "pygments_lexer": "ipython3",
   "version": "3.10.9"
  }
 },
 "nbformat": 4,
 "nbformat_minor": 5
}
